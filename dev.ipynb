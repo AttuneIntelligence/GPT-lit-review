{
 "cells": [
  {
   "cell_type": "code",
   "execution_count": 1,
   "id": "c8f268d7-7a15-48b4-b467-3d1753ccd5ac",
   "metadata": {},
   "outputs": [],
   "source": [
    "import os, sys\n",
    "\n",
    "from get_metadata import *\n",
    "from find_documents import *\n",
    "from unpaywall_download import *"
   ]
  },
  {
   "cell_type": "code",
   "execution_count": 2,
   "id": "4dc41119-5093-42d1-9922-08e6cea67c14",
   "metadata": {},
   "outputs": [],
   "source": [
    "MetadataCompiler = MetadataCompiler(\n",
    "    OPENAI_API_KEY=\"xxx\"\n",
    ")\n",
    "ResearchAssistant = ResearchAssistant()\n",
    "Unpaywall = Unpaywall()"
   ]
  },
  {
   "cell_type": "code",
   "execution_count": 6,
   "id": "04757bc9-ea53-412c-9829-c151466311bb",
   "metadata": {},
   "outputs": [
    {
     "data": {
      "text/plain": [
       "[{'title': 'Neurophenomenological Investigation of Mindfulness Meditation \"Cessation\" Experiences Using EEG Network Analysis in an Intensively Sampled Adept Meditator.',\n",
       "  'authors': ['Remko van Lutterveld',\n",
       "   'Avijit Chowdhury',\n",
       "   'Daniel M Ingram',\n",
       "   'et. al.'],\n",
       "  'keywords': 'Cessation\", \"EEG\", \"Fruition\", \"Meditation\", \"Mindfulness\", \"Nirodha',\n",
       "  'publication_date': '2024-05-05',\n",
       "  'abstract': 'Mindfulness meditation is a contemplative practice that is informed by Buddhism. It has been proven effective for improving mental and physical health in clinical and non-clinical contexts. To date, mainstream dialogue and scientific research on mindfulness has focused primarily on short-term mindfulness training and applications of mindfulness for reducing stress. Understanding advanced mindfulness practice has important implications for mental health and general wellbeing. According to Theravada Buddhist meditation, a \"cessation\" event is a dramatic experience of profound clarity and equanimity that involves a complete discontinuation in experience, and is evidence of mastery of mindfulness meditation. Thirty-seven cessation events were captured in a single intensively sampled advanced meditator (over 6,000h of retreat mindfulness meditation training) while recording electroencephalography (EEG) in 29 sessions between November 12, 2019 and March 11, 2020. Functional connectivity and network integration were assessed from 40s prior to cessations to 40s after cessations. From 21s prior to cessations there was a linear decrease in large-scale functional interactions at the whole-brain level in the alpha band. In the 40s following cessations these interactions linearly returned to prior levels. No modulation of network integration was observed. The decrease in whole-brain functional connectivity was underlain by frontal to left temporal and to more posterior decreases in connectivity, while the increase was underlain by wide-spread increases in connectivity. These results provide neuroscientific evidence of large-scale modulation of brain activity related to cessation events that provides a foundation for future studies of advanced meditation.',\n",
       "  'doi': '10.1007/s10548-024-01052-4'},\n",
       " {'title': 'Investigation of advanced mindfulness meditation \"cessation\" experiences using EEG spectral analysis in an intensively sampled case study.',\n",
       "  'authors': ['Avijit Chowdhury',\n",
       "   'Remko van Lutterveld',\n",
       "   'Ruben E Laukkonen',\n",
       "   'et. al.'],\n",
       "  'keywords': 'Alpha activity\", \"Cessation\", \"EEG\", \"Fruition\", \"Meditation\", \"Mindfulness\", \"Nirodha\", \"Theta activity',\n",
       "  'publication_date': '2023-10-01',\n",
       "  'abstract': 'Mindfulness meditation is a contemplative practice informed by Buddhism that targets the development of present-focused awareness and non-judgment of experience. Interest in mindfulness is burgeoning, and it has been shown to be effective in improving mental and physical health in clinical and non-clinical contexts. In this report, for the first time, we used electroencephalography (EEG) combined with a neurophenomenological approach to examine the neural signature of \"cessation\" events, which are dramatic experiences of complete discontinuation in awareness similar to the loss of consciousness, which are reported to be experienced by very experienced meditators, and are proposed to be evidence of mastery of mindfulness meditation. We intensively sampled these cessations as experienced by a single advanced meditator (with over 23,000h of meditation training) and analyzed 37 cessation events collected in 29 EEG sessions between November 12, 2019, and March 11, 2020. Spectral analyses of the EEG data surrounding cessations showed that these events were marked by a large-scale alpha-power decrease starting around 40s before their onset, and that this alpha-power was lowest immediately following a cessation. Region-of-interest (ROI) based examination of this finding revealed that this alpha-suppression showed a linear decrease in the occipital and parietal regions of the brain during the pre-cessation time period. Additionally, there were modest increases in theta power for the central, parietal, and right temporal ROIs during the pre-cessation timeframe, whereas power in the Delta and Beta frequency bands were not significantly different surrounding cessations. By relating cessations to objective and intrinsic measures of brain activity (i.e., EEG power) that are related to consciousness and high-level psychological functioning, these results provide evidence for the ability of experienced meditators to voluntarily modulate their state of consciousness and lay the foundation for studying these unique states using a neuroscientific approach.',\n",
       "  'doi': '10.1016/j.neuropsychologia.2023.108694'},\n",
       " {'title': 'Adapting camera-trap placement based on animal behavior for rapid detection: A focus on the Endangered, white-bellied pangolin (',\n",
       "  'authors': ['Franklin T Simo',\n",
       "   'Ghislain F Difouo',\n",
       "   'Sévilor Kekeunou',\n",
       "   'et. al.'],\n",
       "  'keywords': 'Africa\", \"Deng Deng National Park\", \"Mpem et Djim National Park\", \"Pholidota\", \"monitoring',\n",
       "  'publication_date': '2023-05-14',\n",
       "  'abstract': \"Pangolin species are notoriously difficult to detect and monitor in the wild and, as a result, commonly used survey techniques fall short in gathering sufficient data to draw confident conclusions on pangolin populations, conservation status, and natural history. The white-bellied pangolin is a semiarboreal species that may be poorly detected in general mammal surveys even with modern techniques such as camera-trapping. As a result, population status information is often derived from hunting, market, and trafficking data. There is therefore a crucial need to improve camera-trap survey methods to reliably detect this species in its natural environment. Here, we test the influence of camera-trap placement strategy on the detectability of the white-bellied pangolin by comparing estimates from targeted ground-viewing camera-trapping and a novel log-viewing placement strategy adapted from local hunters' knowledge. Our results suggest that (1) deploying camera-traps to detect animals walking along logs is an effective strategy for recording several forest species, including the white-bellied pangolin, and (2) that camera-traps targeting logs are more efficient at detecting white-bellied pangolins than camera-traps viewing the ground (>100% increase in detection probability). We also found moderate evidence that there is a relationship between the white-bellied pangolin occurrence at our locality and elevation and weak evidence of an association with distance to the nearest river. Our results suggest an effective new monitoring approach allowing consistent detection of the white-bellied pangolin with moderate survey effort. This highlights the importance of harnessing local knowledge to guide the design of monitoring protocols for cryptic species.\",\n",
       "  'doi': '10.1002/ece3.10064'}]"
      ]
     },
     "execution_count": 6,
     "metadata": {},
     "output_type": "execute_result"
    }
   ],
   "source": [
    "#################\n",
    "### FIND PDFS ###\n",
    "#################\n",
    "### SEARCH FOR ANY QUERY ACROSS PUBMED OR ARXIV\n",
    "### https://pypi.org/project/pymed/\n",
    "### https://info.arxiv.org/help/api/index.html\n",
    "\n",
    "query = \"Mindfulness meditation\"\n",
    "\n",
    "ResearchAssistant.search_pubmed(query)\n",
    "# ResearchAssistant.search_arxiv(query)"
   ]
  },
  {
   "cell_type": "code",
   "execution_count": 8,
   "id": "5c07ea17-e910-423d-8741-f00c47a21f1f",
   "metadata": {},
   "outputs": [
    {
     "name": "stdout",
     "output_type": "stream",
     "text": [
      "==> DOI: 10.1007/s10548-024-01052-4\n",
      "==> PDF LINK: https://link.springer.com/content/pdf/10.1007/s10548-024-01052-4.pdf\n",
      "=> DOWNLOAD RESULT: [successful pdf download] -> `10_1007_s10548-024-01052-4.pdf`\n"
     ]
    },
    {
     "data": {
      "text/plain": [
       "'[successful pdf download] -> `10_1007_s10548-024-01052-4.pdf` in PDF download time -> 5.95 seconds..'"
      ]
     },
     "execution_count": 8,
     "metadata": {},
     "output_type": "execute_result"
    }
   ],
   "source": [
    "##########################\n",
    "### DOWNLOAD OPEN PDFS ###\n",
    "##########################\n",
    "### SEARCH UNPAYWALL TO FIND PDFS AND DOWNLOAD DOCUMENTS THAT ARE OPEN ACCESS\n",
    "### INPUT SHOULD BE EITHER A DOI OR A TITLE\n",
    "### https://unpaywall.org/\n",
    "\n",
    "title_or_doi = \"10.1007/s10548-024-01052-4\"\n",
    "# title_or_doi = 'The Computational Boundary of a “Self”: Developmental Bioelectricity Drives Multicellularity and Scale-Free Cognition'\n",
    "\n",
    "Unpaywall.download_open_access(title_or_doi)"
   ]
  },
  {
   "cell_type": "code",
   "execution_count": 9,
   "id": "ec06ca14-846b-4b8f-8241-7405c4c2b69f",
   "metadata": {},
   "outputs": [
    {
     "name": "stdout",
     "output_type": "stream",
     "text": [
      "==> Reading PDF...\n",
      "==> Extracting metadata with gpt-4-turbo-2024-04-09...\n"
     ]
    },
    {
     "data": {
      "text/plain": [
       "({'title': 'Effects of Mindfulness Meditation on Brain Function and Connectivity: An EEG Study',\n",
       "  'document_link': 'none',\n",
       "  'authors': 'Remko van Lutterveld\\nMatthew D Sacchet',\n",
       "  'publication_date': 'none'},\n",
       " {'time (s)': 2.5,\n",
       "  'ingress_tokens': 2565,\n",
       "  'egress_tokens': 28,\n",
       "  'tokens_per_second': 11.2,\n",
       "  'cost ($)': 0.02649,\n",
       "  'model': 'gpt-4-turbo-2024-04-09'})"
      ]
     },
     "execution_count": 9,
     "metadata": {},
     "output_type": "execute_result"
    }
   ],
   "source": [
    "###################################\n",
    "### EXTRACT METADATA WITH GPT-4 ###\n",
    "###################################\n",
    "### SENDS PARALLEL REQUESTS TO GPT-4 TO RAPIDLY AUTOMATE THE PROCESS OF METADATA CURATION\n",
    "\n",
    "pdf_file_name = \"10_1007_s10548-024-01052-4.pdf\"\n",
    "\n",
    "MetadataCompiler.document_metadata(pdf_file_name)"
   ]
  },
  {
   "cell_type": "code",
   "execution_count": null,
   "id": "9a5992ec-5223-485d-9c2d-e511c77a3ec4",
   "metadata": {},
   "outputs": [],
   "source": []
  },
  {
   "cell_type": "code",
   "execution_count": null,
   "id": "fc5d195a-1221-4583-81ab-6076a119c141",
   "metadata": {},
   "outputs": [],
   "source": []
  },
  {
   "cell_type": "code",
   "execution_count": null,
   "id": "d2f2356e-de81-41d9-a60c-5e9b9707dfd0",
   "metadata": {},
   "outputs": [],
   "source": []
  }
 ],
 "metadata": {
  "kernelspec": {
   "display_name": "Python 3 (ipykernel)",
   "language": "python",
   "name": "python3"
  },
  "language_info": {
   "codemirror_mode": {
    "name": "ipython",
    "version": 3
   },
   "file_extension": ".py",
   "mimetype": "text/x-python",
   "name": "python",
   "nbconvert_exporter": "python",
   "pygments_lexer": "ipython3",
   "version": "3.9.15"
  }
 },
 "nbformat": 4,
 "nbformat_minor": 5
}
